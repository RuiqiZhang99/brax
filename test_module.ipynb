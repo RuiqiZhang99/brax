{
 "cells": [
  {
   "cell_type": "code",
   "execution_count": null,
   "metadata": {},
   "outputs": [],
   "source": [
    "try:\n",
    "  import brax\n",
    "except ImportError:\n",
    "  ! pip install git+https://github.com/ruiqizhang99/brax.git@master\n",
    "  clear_output()\n",
    "  import brax\n",
    "\n",
    "import functools\n",
    "import time\n",
    "from typing import Any, Callable, Optional, Tuple, Sequence\n",
    "\n",
    "from absl import logging\n",
    "from brax import envs\n",
    "from brax.envs import wrappers\n",
    "from brax import jumpy as jp\n",
    "from brax.io import html\n",
    "from brax.io import model\n",
    "from brax.training import acting\n",
    "from brax.training import gradients\n",
    "from brax.training import pmap\n",
    "from brax.training import replay_buffers\n",
    "from brax.training import types\n",
    "from brax.training.acme import running_statistics\n",
    "from brax.training.acme import specs\n",
    "from brax.training.types import Params\n",
    "from brax.training.types import PRNGKey, Transition\n",
    "import flax\n",
    "import jax\n",
    "import jax.numpy as jnp\n",
    "import optax\n",
    "import tensorflow as tf\n",
    "import numpy as np\n",
    "Metrics = types.Metrics\n",
    "Transition = types.Transition\n",
    "from datetime import datetime\n",
    "\n",
    "import os\n",
    "if 'COLAB_TPU_ADDR' in os.environ:\n",
    "  from jax.tools import colab_tpu\n",
    "  colab_tpu.setup_tpu()"
   ]
  },
  {
   "cell_type": "code",
   "execution_count": null,
   "metadata": {},
   "outputs": [],
   "source": [
    "env_name = \"walker2d\"  # @param ['ant', 'fetch', 'grasp', 'halfcheetah', 'hopper', 'humanoid', 'humanoidstandup', \n",
    "                       # 'pusher', 'reacher', 'walker2d', 'grasp', 'ur5e']\n",
    "env = envs.get_environment(env_name=env_name)\n",
    "state = env.reset(rng=jp.random_prngkey(seed=0))\n"
   ]
  },
  {
   "cell_type": "code",
   "execution_count": null,
   "metadata": {},
   "outputs": [],
   "source": [
    "env = wrappers.EpisodeWrapper(env, 1000, 1)\n",
    "env = wrappers.VmapWrapper(env)\n",
    "env = wrappers.AutoResetWrapper(env)\n",
    "\n",
    "\n",
    "def actor_step(env_state: envs.State, action, \n",
    "                policy_extras=None, extra_fields: Sequence[str] = ()) -> Tuple[envs.State, Transition]:\n",
    "    nstate = env.step(env_state, action)\n",
    "    state_extras = {x: nstate.info[x] for x in extra_fields}\n",
    "    reward = nstate.reward\n",
    "    assert reward.shape[0] == 1\n",
    "    return reward.at[0].get(), (nstate, Transition(\n",
    "        observation=env_state.obs,\n",
    "        action=action,\n",
    "        reward=nstate.reward,\n",
    "        discount=1-nstate.done,\n",
    "        next_observation=nstate.obs,\n",
    "        extras={'policy_extras': policy_extras, 'state_extras': state_extras}))\n",
    "\n",
    "rew2act_grads_fn = jax.grad(actor_step, argnums=1, has_aux=True)\n",
    "\n",
    "env_key = jax.random.PRNGKey(0)\n",
    "env_state = env.reset(env_key)\n",
    "\n",
    "\n",
    "    "
   ]
  }
 ],
 "metadata": {
  "language_info": {
   "name": "python"
  },
  "orig_nbformat": 4
 },
 "nbformat": 4,
 "nbformat_minor": 2
}
