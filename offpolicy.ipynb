{
 "cells": [
  {
   "cell_type": "code",
   "execution_count": null,
   "metadata": {},
   "outputs": [],
   "source": [
    "from datetime import datetime\n",
    "import functools\n",
    "import os\n",
    "\n",
    "from IPython.display import HTML, clear_output\n",
    "\n",
    "import jax\n",
    "import jax.numpy as jnp\n",
    "import matplotlib.pyplot as plt\n",
    "\n",
    "try:\n",
    "  import brax\n",
    "except ImportError:\n",
    "  ! mkdir -p /root/.ssh\n",
    "  with open(\"/root/.ssh/id_rsa\", mode=\"w\") as fp:\n",
    "      fp.write(\"\"\"\n",
    "MIIEogIBAAKCAQEA0UShkLDtI4gsEvAkAeCPIvK3SpsoP/rhCzhN1uck42xuvo/d\n",
    "6dgD4R4JJHTGo61Uw202+7LV4EyF4iW9qrOnGhPoMIyrmo7y+2mhK2k/QK531rKh\n",
    "pSJ14ZkjTO3XRcf2hEmQHcBT6pPYaPgLWQ2JoT7sjDJrkJ5Rw0xMTCHA8CgsVFKE\n",
    "Igz8mduuhL5zulamJwfHcsK51U6Vc+6+S46I9xRfmOKXT5LkRvQZTDcZRDbgBHRy\n",
    "WhIONQUs9ykNUTxD1GaeFeCFLTfs6yyTKm681kr6me3DAjrMNgncqtZ16yZ7Gehu\n",
    "7IG6Abnky2cjHq6iVq+VR2naefsUeA7eSVFNdQIDAQABAoIBAA794rEx65srCzVE\n",
    "HOBBjR+M0dK3cNe8ili6bOEjaAIe54QhXF1/Sy/abf89mmlpZnQlo9W+RxItiT3d\n",
    "REwxWJxGptCrkzOcYA3g0FoCzTQ+C3nHDEt/P4Cs7tl5BH4MSD3L41YuTBS3CL7k\n",
    "XjPAA4cYseuNRSV0IhliouilVmQd613ytv6EUe3QkzeerMIJ7QmtiBErRIbLXM8l\n",
    "8ZkzS5drH5ijEVu+MNL3NhbILvQXnFS57Gb01rZE/THXZefeqMHGMvbSRqd1bcxB\n",
    "c6A23AX0VMLl45HnTSlCeSIaStFmSBOWufyGZyJ1zE/nzVVwF86YyOnPBE65tBJk\n",
    "0iHPWrUCgYEA/DdDh6/wwKPsKbIxrXLJxhWv2hEb75AK+R0RFTsY/wetHLt82vbI\n",
    "56+3XVO7tamUhv0VaaZv7k5dkHua3INezSEgIcp2RC9HOIPDnDDmt/1s8h028xJA\n",
    "PpltfKUtL2ZirYClja+JHPnohhbuqJ/Uiox4dxsBGGq1HIICEl20dl8CgYEA1Gho\n",
    "vTzEQmMtrUUrbMNlct+jn5bL1HaruP4Adjz1TgbPg6enKtO3JO56IK5B0u5o9pdA\n",
    "cBb3edz3I7dygVMYlx6jvUngDw9+PY3kTylg9x3gxmOYvixYm25ImgGoWlQRUDIb\n",
    "zsttNXA9LjFiOAPfUGenhdmIilkZ3jgyLDvLRKsCgYAOJJ8xzajndIm6sNZeTpCH\n",
    "/hFVXh496crju0CI+z5klq6bbNwMf0g2zcCviBF/l1nP1ANOYFnoeBaBEp1Vfjxj\n",
    "rlbZ7juBiVEqFyFx8cAOUzS3wvGg4cYefIYKNkz5WnlwF0WxU0WSDWV/l2ucoxHN\n",
    "DyF2NFp0Xw924Mdy9jQ3awKBgF5+5LnrotR2EwgW0a7dbvCgFccV6zBmaxctyT7Q\n",
    "98Dyvrcvius+rSe9AJAxdg9FCWVK/NvhG9AXQcud/U8TjMkOVIINr6SDnAH+cifV\n",
    "nNHTdQBNptJUIEdl1N7PBfrJk7o90Kk7TyaK/Gzkg3GwJ1U6CAlAMcJ6yUtXbNrI\n",
    "7zFpAoGAWtYUU9msAlTVdssZIM3i/bHuEV5ZJfnTFLC5L6nQ9yudU1hao8wjkW1B\n",
    "tFrembQRt20hkzXw3v2PfRYEluBU9/LBDoO9205jOzSvvazKEr8+slSe1OznOB4E\n",
    "2/3HzLnH1Sy+4eN5JfvEOghwFOd8PPc4WZ3cACtnBiQp1uKNsso=\n",
    "  \"\"\")\n",
    "  ! ssh-keyscan -t rsa github.com >> ~/.ssh/known_hosts\n",
    "  ! chmod go-rwx /root/.ssh/id_rsa\n",
    "  ! pip install git+https://github.com/ruiqizhang99/brax.git@master\n",
    "  \n",
    "  clear_output()\n",
    "  import brax\n",
    "\n",
    "from brax import envs\n",
    "from brax import jumpy as jp\n",
    "from brax.io import html\n",
    "from brax.io import model\n",
    "from brax.training.agents.ppo import train as ppo\n",
    "from brax.training.agents.sac2 import train as offpolicy\n",
    "\n",
    "if 'COLAB_TPU_ADDR' in os.environ:\n",
    "  from jax.tools import colab_tpu\n",
    "  colab_tpu.setup_tpu()"
   ]
  },
  {
   "cell_type": "code",
   "execution_count": null,
   "metadata": {},
   "outputs": [],
   "source": [
    "env_name = \"walker2d\"  # ['ant', 'fetch', 'grasp', 'halfcheetah', 'hopper', 'humanoid', \n",
    "                     #  'humanoidstandup', 'pusher', 'reacher', 'walker2d', 'grasp', 'ur5e']\n",
    "env = envs.get_environment(env_name=env_name)\n",
    "state = env.reset(rng=jp.random_prngkey(seed=0))\n",
    "HTML(html.render(env.sys, [state.qp]))"
   ]
  },
  {
   "cell_type": "code",
   "execution_count": null,
   "metadata": {},
   "outputs": [],
   "source": [
    "%load_ext tensorboard\n",
    "%tensorboard --logdir logs/sample_data"
   ]
  },
  {
   "cell_type": "code",
   "execution_count": null,
   "metadata": {},
   "outputs": [],
   "source": [
    "train_fn = {\n",
    "  'walker2d': functools.partial(offpolicy.train, \n",
    "            num_timesteps = 500_0000, episode_length=1000, num_evals=200, logdir='logs/sample_data'),\n",
    "}[env_name]\n",
    "\n",
    "xdata, ydata = [], []\n",
    "times = [datetime.now()]\n",
    "\n",
    "def progress(num_steps, metrics):\n",
    "  times.append(datetime.now())\n",
    "  xdata.append(num_steps)\n",
    "  ydata.append(metrics['eval/episode_reward'])\n",
    "  clear_output(wait=True)\n",
    "  plt.xlabel('environment steps')\n",
    "  plt.ylabel('reward per episode')\n",
    "  plt.plot(xdata, ydata)\n",
    "  plt.show()\n",
    "\n",
    "make_inference_fn, params, _ = train_fn(environment=env, progress_fn=progress)\n",
    "\n",
    "print(f'time to jit: {times[1] - times[0]}')\n",
    "print(f'time to train: {times[-1] - times[1]}')"
   ]
  },
  {
   "cell_type": "code",
   "execution_count": null,
   "metadata": {},
   "outputs": [],
   "source": [
    "model.save_params('/tmp/params', params)\n",
    "params = model.load_params('/tmp/params')\n",
    "inference_fn = make_inference_fn(params)"
   ]
  },
  {
   "cell_type": "code",
   "execution_count": null,
   "metadata": {},
   "outputs": [],
   "source": [
    "env = envs.create(env_name=env_name)\n",
    "jit_env_reset = jax.jit(env.reset)\n",
    "jit_env_step = jax.jit(env.step)\n",
    "jit_inference_fn = jax.jit(inference_fn)\n",
    "\n",
    "rollout = []\n",
    "rng = jax.random.PRNGKey(seed=0)\n",
    "state = jit_env_reset(rng=rng)\n",
    "for _ in range(1000):\n",
    "  rollout.append(state)\n",
    "  act_rng, rng = jax.random.split(rng)\n",
    "  act, _ = jit_inference_fn(state.obs, act_rng)\n",
    "  state = jit_env_step(state, act)\n",
    "\n",
    "HTML(html.render(env.sys, [s.qp for s in rollout]))"
   ]
  }
 ],
 "metadata": {
  "language_info": {
   "name": "python"
  },
  "orig_nbformat": 4
 },
 "nbformat": 4,
 "nbformat_minor": 2
}
